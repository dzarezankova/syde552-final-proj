{
 "cells": [
  {
   "cell_type": "code",
   "execution_count": 22,
   "id": "c719b3ca",
   "metadata": {
    "ExecuteTime": {
     "end_time": "2024-04-13T01:02:57.502263Z",
     "start_time": "2024-04-13T01:02:11.192680Z"
    }
   },
   "outputs": [],
   "source": [
    "import torch\n",
    "from torchvision import datasets, transforms\n",
    "from torch.utils.data import DataLoader, random_split\n",
    "from torch import optim\n",
    "from sklearn.metrics import accuracy_score\n",
    "\n",
    "# Transformations to apply on the MNIST images\n",
    "transform = transforms.Compose([\n",
    "    transforms.ToTensor(),  # Converts the image to PyTorch tensor\n",
    "    transforms.Normalize((0.5,), (0.5,))  # Normalizes the tensor\n",
    "])\n",
    "\n",
    "# Download the entire MNIST dataset\n",
    "full_dataset = datasets.MNIST('~/.pytorch/MNIST_data/', download=True, train=True, transform=transform)\n",
    "\n",
    "# Calculate the sizes of each dataset split\n",
    "total_size = len(full_dataset)\n",
    "train_size = int(0.9 * total_size)\n",
    "validation_size = int(0.05 * total_size)\n",
    "test_size = total_size - train_size - validation_size\n",
    "\n",
    "# Split the dataset into training, validation, and test sets\n",
    "train_dataset, validation_dataset, test_dataset = random_split(full_dataset, [train_size, validation_size, test_size])\n",
    "\n",
    "# Create data loaders for each split\n",
    "train_loader = DataLoader(train_dataset, batch_size=64, shuffle=True)\n",
    "validation_loader = DataLoader(validation_dataset, batch_size=64, shuffle=True)\n",
    "test_loader = DataLoader(test_dataset, batch_size=64, shuffle=True)\n"
   ]
  },
  {
   "cell_type": "code",
   "execution_count": 23,
   "id": "51204a8fcba99c19",
   "metadata": {
    "ExecuteTime": {
     "end_time": "2024-04-13T01:03:52.971552Z",
     "start_time": "2024-04-13T01:03:51.414435Z"
    },
    "collapsed": false
   },
   "outputs": [],
   "source": [
    "# Train loop\n",
    "def train(model, train_loader, loss_fn, optimizer, epoch=-1):\n",
    "    \"\"\"\n",
    "    Trains a model for one epoch (one pass through the entire training data).\n",
    "\n",
    "    :param model: PyTorch model\n",
    "    :param train_loader: PyTorch Dataloader for training data\n",
    "    :param loss_fn: PyTorch loss function\n",
    "    :param optimizer: PyTorch optimizer, initialized with model parameters\n",
    "    :kwarg epoch: Integer epoch to use when printing loss and accuracy\n",
    "    :returns: Accuracy score\n",
    "    \"\"\"\n",
    "    total_loss = 0\n",
    "    all_predictions = []\n",
    "    all_targets = []\n",
    "    loss_history = []\n",
    "\n",
    "    DEVICE = torch.device(\"cuda\" if torch.cuda.is_available() else \"cpu\")\n",
    "    model = model.to(DEVICE)\n",
    "    model.train()  # Set model in training mode\n",
    "\n",
    "    for i, (inputs, targets) in enumerate(train_loader):\n",
    "        optimizer.zero_grad()\n",
    "        inputs = inputs.to(DEVICE)\n",
    "        outputs = model(inputs)\n",
    "        loss = loss_fn(outputs, targets.to(DEVICE))\n",
    "        loss.backward()\n",
    "        optimizer.step()\n",
    "\n",
    "\n",
    "        # Track some values to compute statistics\n",
    "        total_loss += loss.item()\n",
    "        preds = torch.argmax(outputs, dim=-1)\n",
    "        all_predictions.extend(preds.detach().cpu().tolist())\n",
    "        all_targets.extend(targets.cpu().tolist())\n",
    "\n",
    "        # Save loss every 100 batches\n",
    "        if (i % 100 == 0) and (i > 0):\n",
    "            running_loss = total_loss / (i + 1)\n",
    "            loss_history.append(running_loss)\n",
    "            # print(f\"Epoch {epoch + 1}, batch {i + 1}: loss = {running_loss:.2f}\")\n",
    "\n",
    "    acc = accuracy_score(all_targets, all_predictions)\n",
    "    final_loss = total_loss / len(train_loader)\n",
    "    # Print average loss and accuracy\n",
    "    print(f\"Epoch {epoch + 1} done. Average train loss = {final_loss:.2f}, average train accuracy = {acc * 100:.3f}%\")\n",
    "    return acc, final_loss"
   ]
  },
  {
   "cell_type": "code",
   "execution_count": 24,
   "id": "6a81a6ca95667a",
   "metadata": {
    "ExecuteTime": {
     "end_time": "2024-04-13T01:03:55.812355Z",
     "start_time": "2024-04-13T01:03:55.698278Z"
    },
    "collapsed": false
   },
   "outputs": [],
   "source": [
    "def test(model, test_loader, loss_fn, epoch=-1):\n",
    "    \"\"\"\n",
    "    Tests a model for one epoch of test data.\n",
    "\n",
    "    Note:\n",
    "        In testing and evaluation, we do not perform gradient descent optimization, so steps 2, 5, and 6 are not needed.\n",
    "        For performance, we also tell torch not to track gradients by using the `with torch.no_grad()` context.\n",
    "\n",
    "    :param model: PyTorch model\n",
    "    :param test_loader: PyTorch Dataloader for test data\n",
    "    :param loss_fn: PyTorch loss function\n",
    "    :kwarg epoch: Integer epoch to use when printing loss and accuracy\n",
    "\n",
    "    :returns: Accuracy score\n",
    "    \"\"\"\n",
    "    total_loss = 0\n",
    "    all_predictions = []\n",
    "    all_targets = []\n",
    "\n",
    "    DEVICE = torch.device(\"cuda\" if torch.cuda.is_available() else \"cpu\")\n",
    "    model = model.to(DEVICE)\n",
    "    model.eval()  # Set model in evaluation mode\n",
    "    for i, (inputs, targets) in enumerate(test_loader):\n",
    "        with torch.no_grad():\n",
    "            outputs = model(inputs.to(DEVICE))\n",
    "            loss = loss_fn(outputs, targets.to(DEVICE))\n",
    "\n",
    "            # Track some values to compute statistics\n",
    "            total_loss += loss.item()\n",
    "            preds = torch.argmax(outputs, dim=-1)\n",
    "            all_predictions.extend(preds.detach().cpu().tolist())\n",
    "            all_targets.extend(targets.cpu().tolist())\n",
    "\n",
    "    acc = accuracy_score(all_targets, all_predictions)\n",
    "    final_loss = total_loss / len(test_loader)\n",
    "    # Print average loss and accuracy\n",
    "    print(f\"Epoch {epoch + 1} done. Average test loss = {final_loss:.4f}, average test accuracy = {acc * 100:.4f}%\")\n",
    "    return acc, final_loss"
   ]
  },
  {
   "cell_type": "code",
   "execution_count": 25,
   "id": "ad3fdb6c7428f139",
   "metadata": {
    "ExecuteTime": {
     "end_time": "2024-04-13T01:05:35.556102Z",
     "start_time": "2024-04-13T01:05:35.504976Z"
    },
    "collapsed": false
   },
   "outputs": [],
   "source": [
    "# Define the CNN\n",
    "\n",
    "import torch.nn as nn\n",
    "import torch.nn.functional as F\n",
    "\n",
    "class CNN(nn.Module):\n",
    "    \n",
    "    def __init__(self):        \n",
    "        super(CNN, self).__init__()\n",
    "        # Image size 1x28x28 (grayscale images)\n",
    "        # Number of classes = 10 (digits 0 through 9)\n",
    "        self.conv1 = nn.Conv2d(1, 10, 5)  # Output: 10x24x24\n",
    "        self.pool1 = nn.MaxPool2d(2, 2)   # Output: 10x12x12\n",
    "        self.conv2 = nn.Conv2d(10, 20, 5) # Output: 20x8x8\n",
    "        self.pool2 = nn.MaxPool2d(2, 2)   # Output: 20x4x4\n",
    "        self.fc1 = nn.Linear(20 * 4 * 4, 50)  # Fully connected layer\n",
    "        self.fc2 = nn.Linear(50, 10)          # Output layer for 10 classes\n",
    "        self.out = nn.LogSoftmax(dim=1)       # LogSoftmax for classification\n",
    "\n",
    "    def forward(self, x):\n",
    "        x = self.pool1(F.relu(self.conv1(x)))\n",
    "        x = self.pool2(F.relu(self.conv2(x)))\n",
    "        x = x.view(-1, 20 * 4 * 4)  # Flatten the output for the dense layer\n",
    "        x = F.relu(self.fc1(x))\n",
    "        x = self.fc2(x)\n",
    "        x = self.out(x)  # Output layer with LogSoftmax\n",
    "        return x"
   ]
  },
  {
   "cell_type": "code",
   "execution_count": 26,
   "id": "40c400b768133aee",
   "metadata": {
    "ExecuteTime": {
     "start_time": "2024-04-13T01:05:37.979926Z"
    },
    "collapsed": false,
    "is_executing": true
   },
   "outputs": [
    {
     "name": "stdout",
     "output_type": "stream",
     "text": [
      "Epoch 1 done. Average train loss = 0.15, average train accuracy = 95.511%\n",
      "Epoch 1 done. Average test loss = 0.0545, average test accuracy = 98.3000%\n",
      "Epoch 2 done. Average train loss = 0.08, average train accuracy = 97.669%\n",
      "Epoch 2 done. Average test loss = 0.0617, average test accuracy = 97.9333%\n",
      "Epoch 3 done. Average train loss = 0.07, average train accuracy = 97.933%\n",
      "Epoch 3 done. Average test loss = 0.0699, average test accuracy = 98.2000%\n",
      "Epoch 4 done. Average train loss = 0.07, average train accuracy = 98.126%\n",
      "Epoch 4 done. Average test loss = 0.0574, average test accuracy = 98.5000%\n",
      "Epoch 5 done. Average train loss = 0.07, average train accuracy = 98.143%\n",
      "Epoch 5 done. Average test loss = 0.0493, average test accuracy = 98.8000%\n",
      "Epoch 6 done. Average train loss = 0.07, average train accuracy = 98.226%\n",
      "Epoch 6 done. Average test loss = 0.0508, average test accuracy = 98.6000%\n",
      "Epoch 7 done. Average train loss = 0.07, average train accuracy = 98.217%\n",
      "Epoch 7 done. Average test loss = 0.1139, average test accuracy = 97.4667%\n",
      "Epoch 8 done. Average train loss = 0.06, average train accuracy = 98.411%\n",
      "Epoch 8 done. Average test loss = 0.0693, average test accuracy = 98.4667%\n",
      "Epoch 9 done. Average train loss = 0.08, average train accuracy = 98.152%\n",
      "Epoch 9 done. Average test loss = 0.0774, average test accuracy = 98.2333%\n",
      "Epoch 10 done. Average train loss = 0.06, average train accuracy = 98.546%\n",
      "Epoch 10 done. Average test loss = 0.0646, average test accuracy = 98.2333%\n"
     ]
    }
   ],
   "source": [
    "LEARNING_RATE = 1e-2\n",
    "NUM_EPOCHS = 10\n",
    "torch.manual_seed(0)\n",
    "model = CNN()\n",
    "optimizer = optim.Adam(model.parameters(), LEARNING_RATE)\n",
    "loss_fn = nn.CrossEntropyLoss()\n",
    "\n",
    "train_losses = []\n",
    "test_losses = []\n",
    "train_metrics = []\n",
    "test_metrics = []\n",
    "\n",
    "\n",
    "for epoch in range(NUM_EPOCHS):\n",
    "    train_acc, train_loss = train(model, train_loader, loss_fn, optimizer, epoch)\n",
    "    test_acc, test_loss = test(model, validation_loader, loss_fn, epoch)\n",
    "\n",
    "    train_losses.append(train_loss)\n",
    "    test_losses.append(test_loss)\n",
    "    train_metrics.append(train_acc)\n",
    "    test_metrics.append(test_acc)\n",
    "    "
   ]
  },
  {
   "cell_type": "code",
   "execution_count": 28,
   "id": "218cd0b9dccf988c",
   "metadata": {
    "ExecuteTime": {
     "start_time": "2024-04-12T18:46:42.118073Z"
    },
    "collapsed": false
   },
   "outputs": [
    {
     "data": {
      "image/png": "[encoded data removed]",
      "text/plain": [
       "<Figure size 640x480 with 1 Axes>"
      ]
     },
     "metadata": {},
     "output_type": "display_data"
    }
   ],
   "source": [
    "import matplotlib.pyplot as plt\n",
    "\n",
    "# Plot training curves\n",
    "xs = 1 + torch.arange(NUM_EPOCHS)\n",
    "plt.plot(xs, train_metrics, \"o-\", label=\"Train accuracy\")\n",
    "plt.plot(xs, test_metrics, \"o-\", label=\"Test accuracy\")\n",
    "plt.xlabel(\"Epoch\")\n",
    "plt.ylabel(\"Accuracy score\")\n",
    "plt.legend()\n",
    "plt.show()"
   ]
  }
 ],
 "metadata": {
  "kernelspec": {
   "display_name": "Python 3",
   "language": "python",
   "name": "python3"
  },
  "language_info": {
   "codemirror_mode": {
    "name": "ipython",
    "version": 3
   },
   "file_extension": ".py",
   "mimetype": "text/x-python",
   "name": "python",
   "nbconvert_exporter": "python",
   "pygments_lexer": "ipython3",
   "version": "3.11.0"
  }
 },
 "nbformat": 4,
 "nbformat_minor": 5
}
